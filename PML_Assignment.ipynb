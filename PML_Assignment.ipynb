{
 "cells": [
  {
   "cell_type": "code",
   "execution_count": 1,
   "id": "68482004",
   "metadata": {},
   "outputs": [],
   "source": [
    "import pandas as pd\n",
    "import numpy as np\n",
    "from sklearn.model_selection import StratifiedKFold,GridSearchCV,RandomizedSearchCV\n",
    "from sklearn.preprocessing import LabelEncoder,StandardScaler,MinMaxScaler\n",
    "from sklearn.linear_model import LogisticRegression \n",
    "from sklearn.ensemble import RandomForestClassifier,StackingClassifier,VotingClassifier\n",
    "from sklearn.tree import DecisionTreeClassifier\n",
    "import matplotlib.pyplot as plt\n",
    "from lightgbm import LGBMClassifier\n",
    "from sklearn.svm import SVC\n",
    "from xgboost import XGBClassifier\n",
    "from sklearn.pipeline import Pipeline\n",
    "from sklearn.naive_bayes import GaussianNB\n",
    "from imblearn.over_sampling import SMOTE,ADASYN\n"
   ]
  },
  {
   "cell_type": "code",
   "execution_count": 2,
   "id": "6bd2b174",
   "metadata": {},
   "outputs": [
    {
     "data": {
      "text/html": [
       "<div>\n",
       "<style scoped>\n",
       "    .dataframe tbody tr th:only-of-type {\n",
       "        vertical-align: middle;\n",
       "    }\n",
       "\n",
       "    .dataframe tbody tr th {\n",
       "        vertical-align: top;\n",
       "    }\n",
       "\n",
       "    .dataframe thead th {\n",
       "        text-align: right;\n",
       "    }\n",
       "</style>\n",
       "<table border=\"1\" class=\"dataframe\">\n",
       "  <thead>\n",
       "    <tr style=\"text-align: right;\">\n",
       "      <th></th>\n",
       "      <th>CustomerId</th>\n",
       "      <th>Surname</th>\n",
       "      <th>CreditScore</th>\n",
       "      <th>Geography</th>\n",
       "      <th>Gender</th>\n",
       "      <th>Age</th>\n",
       "      <th>Tenure</th>\n",
       "      <th>Balance</th>\n",
       "      <th>NumOfProducts</th>\n",
       "      <th>HasCrCard</th>\n",
       "      <th>IsActiveMember</th>\n",
       "      <th>EstimatedSalary</th>\n",
       "      <th>Exited</th>\n",
       "      <th>Complain</th>\n",
       "      <th>Satisfaction Score</th>\n",
       "      <th>Card Type</th>\n",
       "      <th>Point Earned</th>\n",
       "    </tr>\n",
       "    <tr>\n",
       "      <th>RowNumber</th>\n",
       "      <th></th>\n",
       "      <th></th>\n",
       "      <th></th>\n",
       "      <th></th>\n",
       "      <th></th>\n",
       "      <th></th>\n",
       "      <th></th>\n",
       "      <th></th>\n",
       "      <th></th>\n",
       "      <th></th>\n",
       "      <th></th>\n",
       "      <th></th>\n",
       "      <th></th>\n",
       "      <th></th>\n",
       "      <th></th>\n",
       "      <th></th>\n",
       "      <th></th>\n",
       "    </tr>\n",
       "  </thead>\n",
       "  <tbody>\n",
       "    <tr>\n",
       "      <th>1</th>\n",
       "      <td>15634602</td>\n",
       "      <td>Hargrave</td>\n",
       "      <td>619</td>\n",
       "      <td>France</td>\n",
       "      <td>Female</td>\n",
       "      <td>42</td>\n",
       "      <td>2</td>\n",
       "      <td>0.00</td>\n",
       "      <td>1</td>\n",
       "      <td>1</td>\n",
       "      <td>1</td>\n",
       "      <td>101348.88</td>\n",
       "      <td>1</td>\n",
       "      <td>1</td>\n",
       "      <td>2</td>\n",
       "      <td>DIAMOND</td>\n",
       "      <td>464</td>\n",
       "    </tr>\n",
       "    <tr>\n",
       "      <th>2</th>\n",
       "      <td>15647311</td>\n",
       "      <td>Hill</td>\n",
       "      <td>608</td>\n",
       "      <td>Spain</td>\n",
       "      <td>Female</td>\n",
       "      <td>41</td>\n",
       "      <td>1</td>\n",
       "      <td>83807.86</td>\n",
       "      <td>1</td>\n",
       "      <td>0</td>\n",
       "      <td>1</td>\n",
       "      <td>112542.58</td>\n",
       "      <td>0</td>\n",
       "      <td>1</td>\n",
       "      <td>3</td>\n",
       "      <td>DIAMOND</td>\n",
       "      <td>456</td>\n",
       "    </tr>\n",
       "    <tr>\n",
       "      <th>3</th>\n",
       "      <td>15619304</td>\n",
       "      <td>Onio</td>\n",
       "      <td>502</td>\n",
       "      <td>France</td>\n",
       "      <td>Female</td>\n",
       "      <td>42</td>\n",
       "      <td>8</td>\n",
       "      <td>159660.80</td>\n",
       "      <td>3</td>\n",
       "      <td>1</td>\n",
       "      <td>0</td>\n",
       "      <td>113931.57</td>\n",
       "      <td>1</td>\n",
       "      <td>1</td>\n",
       "      <td>3</td>\n",
       "      <td>DIAMOND</td>\n",
       "      <td>377</td>\n",
       "    </tr>\n",
       "    <tr>\n",
       "      <th>4</th>\n",
       "      <td>15701354</td>\n",
       "      <td>Boni</td>\n",
       "      <td>699</td>\n",
       "      <td>France</td>\n",
       "      <td>Female</td>\n",
       "      <td>39</td>\n",
       "      <td>1</td>\n",
       "      <td>0.00</td>\n",
       "      <td>2</td>\n",
       "      <td>0</td>\n",
       "      <td>0</td>\n",
       "      <td>93826.63</td>\n",
       "      <td>0</td>\n",
       "      <td>0</td>\n",
       "      <td>5</td>\n",
       "      <td>GOLD</td>\n",
       "      <td>350</td>\n",
       "    </tr>\n",
       "    <tr>\n",
       "      <th>5</th>\n",
       "      <td>15737888</td>\n",
       "      <td>Mitchell</td>\n",
       "      <td>850</td>\n",
       "      <td>Spain</td>\n",
       "      <td>Female</td>\n",
       "      <td>43</td>\n",
       "      <td>2</td>\n",
       "      <td>125510.82</td>\n",
       "      <td>1</td>\n",
       "      <td>1</td>\n",
       "      <td>1</td>\n",
       "      <td>79084.10</td>\n",
       "      <td>0</td>\n",
       "      <td>0</td>\n",
       "      <td>5</td>\n",
       "      <td>GOLD</td>\n",
       "      <td>425</td>\n",
       "    </tr>\n",
       "  </tbody>\n",
       "</table>\n",
       "</div>"
      ],
      "text/plain": [
       "           CustomerId   Surname  CreditScore Geography  Gender  Age  Tenure  \\\n",
       "RowNumber                                                                     \n",
       "1            15634602  Hargrave          619    France  Female   42       2   \n",
       "2            15647311      Hill          608     Spain  Female   41       1   \n",
       "3            15619304      Onio          502    France  Female   42       8   \n",
       "4            15701354      Boni          699    France  Female   39       1   \n",
       "5            15737888  Mitchell          850     Spain  Female   43       2   \n",
       "\n",
       "             Balance  NumOfProducts  HasCrCard  IsActiveMember  \\\n",
       "RowNumber                                                        \n",
       "1               0.00              1          1               1   \n",
       "2           83807.86              1          0               1   \n",
       "3          159660.80              3          1               0   \n",
       "4               0.00              2          0               0   \n",
       "5          125510.82              1          1               1   \n",
       "\n",
       "           EstimatedSalary  Exited  Complain  Satisfaction Score Card Type  \\\n",
       "RowNumber                                                                    \n",
       "1                101348.88       1         1                   2   DIAMOND   \n",
       "2                112542.58       0         1                   3   DIAMOND   \n",
       "3                113931.57       1         1                   3   DIAMOND   \n",
       "4                 93826.63       0         0                   5      GOLD   \n",
       "5                 79084.10       0         0                   5      GOLD   \n",
       "\n",
       "           Point Earned  \n",
       "RowNumber                \n",
       "1                   464  \n",
       "2                   456  \n",
       "3                   377  \n",
       "4                   350  \n",
       "5                   425  "
      ]
     },
     "execution_count": 2,
     "metadata": {},
     "output_type": "execute_result"
    }
   ],
   "source": [
    "bank=pd.read_csv('Customer-Churn-Records.csv',index_col=0)\n",
    "bank.head()"
   ]
  },
  {
   "cell_type": "code",
   "execution_count": 3,
   "id": "afbb67ff",
   "metadata": {
    "scrolled": true
   },
   "outputs": [],
   "source": [
    "X=bank.drop(['CustomerId','Surname','Exited'],axis=1)\n",
    "y=bank.Exited"
   ]
  },
  {
   "cell_type": "code",
   "execution_count": 4,
   "id": "a6bc8a0c",
   "metadata": {},
   "outputs": [
    {
     "data": {
      "text/html": [
       "<div>\n",
       "<style scoped>\n",
       "    .dataframe tbody tr th:only-of-type {\n",
       "        vertical-align: middle;\n",
       "    }\n",
       "\n",
       "    .dataframe tbody tr th {\n",
       "        vertical-align: top;\n",
       "    }\n",
       "\n",
       "    .dataframe thead th {\n",
       "        text-align: right;\n",
       "    }\n",
       "</style>\n",
       "<table border=\"1\" class=\"dataframe\">\n",
       "  <thead>\n",
       "    <tr style=\"text-align: right;\">\n",
       "      <th></th>\n",
       "      <th>CreditScore</th>\n",
       "      <th>Age</th>\n",
       "      <th>Tenure</th>\n",
       "      <th>Balance</th>\n",
       "      <th>NumOfProducts</th>\n",
       "      <th>HasCrCard</th>\n",
       "      <th>IsActiveMember</th>\n",
       "      <th>EstimatedSalary</th>\n",
       "      <th>Complain</th>\n",
       "      <th>Satisfaction Score</th>\n",
       "      <th>Point Earned</th>\n",
       "      <th>Geography_Germany</th>\n",
       "      <th>Geography_Spain</th>\n",
       "      <th>Gender_Male</th>\n",
       "      <th>Card Type_GOLD</th>\n",
       "      <th>Card Type_PLATINUM</th>\n",
       "      <th>Card Type_SILVER</th>\n",
       "    </tr>\n",
       "    <tr>\n",
       "      <th>RowNumber</th>\n",
       "      <th></th>\n",
       "      <th></th>\n",
       "      <th></th>\n",
       "      <th></th>\n",
       "      <th></th>\n",
       "      <th></th>\n",
       "      <th></th>\n",
       "      <th></th>\n",
       "      <th></th>\n",
       "      <th></th>\n",
       "      <th></th>\n",
       "      <th></th>\n",
       "      <th></th>\n",
       "      <th></th>\n",
       "      <th></th>\n",
       "      <th></th>\n",
       "      <th></th>\n",
       "    </tr>\n",
       "  </thead>\n",
       "  <tbody>\n",
       "    <tr>\n",
       "      <th>1</th>\n",
       "      <td>619</td>\n",
       "      <td>42</td>\n",
       "      <td>2</td>\n",
       "      <td>0.00</td>\n",
       "      <td>1</td>\n",
       "      <td>1</td>\n",
       "      <td>1</td>\n",
       "      <td>101348.88</td>\n",
       "      <td>1</td>\n",
       "      <td>2</td>\n",
       "      <td>464</td>\n",
       "      <td>0</td>\n",
       "      <td>0</td>\n",
       "      <td>0</td>\n",
       "      <td>0</td>\n",
       "      <td>0</td>\n",
       "      <td>0</td>\n",
       "    </tr>\n",
       "    <tr>\n",
       "      <th>2</th>\n",
       "      <td>608</td>\n",
       "      <td>41</td>\n",
       "      <td>1</td>\n",
       "      <td>83807.86</td>\n",
       "      <td>1</td>\n",
       "      <td>0</td>\n",
       "      <td>1</td>\n",
       "      <td>112542.58</td>\n",
       "      <td>1</td>\n",
       "      <td>3</td>\n",
       "      <td>456</td>\n",
       "      <td>0</td>\n",
       "      <td>1</td>\n",
       "      <td>0</td>\n",
       "      <td>0</td>\n",
       "      <td>0</td>\n",
       "      <td>0</td>\n",
       "    </tr>\n",
       "    <tr>\n",
       "      <th>3</th>\n",
       "      <td>502</td>\n",
       "      <td>42</td>\n",
       "      <td>8</td>\n",
       "      <td>159660.80</td>\n",
       "      <td>3</td>\n",
       "      <td>1</td>\n",
       "      <td>0</td>\n",
       "      <td>113931.57</td>\n",
       "      <td>1</td>\n",
       "      <td>3</td>\n",
       "      <td>377</td>\n",
       "      <td>0</td>\n",
       "      <td>0</td>\n",
       "      <td>0</td>\n",
       "      <td>0</td>\n",
       "      <td>0</td>\n",
       "      <td>0</td>\n",
       "    </tr>\n",
       "    <tr>\n",
       "      <th>4</th>\n",
       "      <td>699</td>\n",
       "      <td>39</td>\n",
       "      <td>1</td>\n",
       "      <td>0.00</td>\n",
       "      <td>2</td>\n",
       "      <td>0</td>\n",
       "      <td>0</td>\n",
       "      <td>93826.63</td>\n",
       "      <td>0</td>\n",
       "      <td>5</td>\n",
       "      <td>350</td>\n",
       "      <td>0</td>\n",
       "      <td>0</td>\n",
       "      <td>0</td>\n",
       "      <td>1</td>\n",
       "      <td>0</td>\n",
       "      <td>0</td>\n",
       "    </tr>\n",
       "    <tr>\n",
       "      <th>5</th>\n",
       "      <td>850</td>\n",
       "      <td>43</td>\n",
       "      <td>2</td>\n",
       "      <td>125510.82</td>\n",
       "      <td>1</td>\n",
       "      <td>1</td>\n",
       "      <td>1</td>\n",
       "      <td>79084.10</td>\n",
       "      <td>0</td>\n",
       "      <td>5</td>\n",
       "      <td>425</td>\n",
       "      <td>0</td>\n",
       "      <td>1</td>\n",
       "      <td>0</td>\n",
       "      <td>1</td>\n",
       "      <td>0</td>\n",
       "      <td>0</td>\n",
       "    </tr>\n",
       "  </tbody>\n",
       "</table>\n",
       "</div>"
      ],
      "text/plain": [
       "           CreditScore  Age  Tenure    Balance  NumOfProducts  HasCrCard  \\\n",
       "RowNumber                                                                  \n",
       "1                  619   42       2       0.00              1          1   \n",
       "2                  608   41       1   83807.86              1          0   \n",
       "3                  502   42       8  159660.80              3          1   \n",
       "4                  699   39       1       0.00              2          0   \n",
       "5                  850   43       2  125510.82              1          1   \n",
       "\n",
       "           IsActiveMember  EstimatedSalary  Complain  Satisfaction Score  \\\n",
       "RowNumber                                                                  \n",
       "1                       1        101348.88         1                   2   \n",
       "2                       1        112542.58         1                   3   \n",
       "3                       0        113931.57         1                   3   \n",
       "4                       0         93826.63         0                   5   \n",
       "5                       1         79084.10         0                   5   \n",
       "\n",
       "           Point Earned  Geography_Germany  Geography_Spain  Gender_Male  \\\n",
       "RowNumber                                                                  \n",
       "1                   464                  0                0            0   \n",
       "2                   456                  0                1            0   \n",
       "3                   377                  0                0            0   \n",
       "4                   350                  0                0            0   \n",
       "5                   425                  0                1            0   \n",
       "\n",
       "           Card Type_GOLD  Card Type_PLATINUM  Card Type_SILVER  \n",
       "RowNumber                                                        \n",
       "1                       0                   0                 0  \n",
       "2                       0                   0                 0  \n",
       "3                       0                   0                 0  \n",
       "4                       1                   0                 0  \n",
       "5                       1                   0                 0  "
      ]
     },
     "execution_count": 4,
     "metadata": {},
     "output_type": "execute_result"
    }
   ],
   "source": [
    "X_dum=pd.get_dummies(X,drop_first=True)\n",
    "X_dum.head()"
   ]
  },
  {
   "cell_type": "code",
   "execution_count": 70,
   "id": "57bff04d",
   "metadata": {},
   "outputs": [
    {
     "data": {
      "text/plain": [
       "(10000, 14)"
      ]
     },
     "execution_count": 70,
     "metadata": {},
     "output_type": "execute_result"
    }
   ],
   "source": [
    "X.shape"
   ]
  },
  {
   "cell_type": "markdown",
   "id": "62a35d0c",
   "metadata": {},
   "source": [
    "# Random Forest"
   ]
  },
  {
   "cell_type": "code",
   "execution_count": 28,
   "id": "8972198c",
   "metadata": {},
   "outputs": [
    {
     "name": "stdout",
     "output_type": "stream",
     "text": [
      "best para= {'max_features': 5}\n",
      "best score= -0.01728936751647599\n"
     ]
    }
   ],
   "source": [
    "rf=RandomForestClassifier(random_state=23,oob_score=True,n_estimators=100)\n",
    "params={\"max_features\":np.arange(2,12)}\n",
    "kfold=StratifiedKFold(n_splits=5,shuffle=True,random_state=23)\n",
    "gcv=GridSearchCV(rf,cv=kfold,param_grid=params,scoring=\"neg_log_loss\")\n",
    "gcv.fit(X_dum,y)\n",
    "print(\"best para=\",gcv.best_params_)\n",
    "print(\"best score=\",gcv.best_score_)"
   ]
  },
  {
   "cell_type": "code",
   "execution_count": 30,
   "id": "4c91bb10",
   "metadata": {},
   "outputs": [
    {
     "data": {
      "image/png": "[encoded data removed]",
      "text/plain": [
       "<Figure size 640x480 with 1 Axes>"
      ]
     },
     "metadata": {},
     "output_type": "display_data"
    }
   ],
   "source": [
    "best_tree=gcv.best_estimator_\n",
    "df_imp=pd.DataFrame({'features':X_dum.columns,'importance':best_tree.feature_importances_})\n",
    "df_imp=df_imp.sort_values(by='importance')\n",
    "plt.barh(df_imp['features'],df_imp['importance'])\n",
    "plt.show()"
   ]
  },
  {
   "cell_type": "markdown",
   "id": "5316b56d",
   "metadata": {},
   "source": [
    "# Light GBM"
   ]
  },
  {
   "cell_type": "code",
   "execution_count": 35,
   "id": "b7799f6c",
   "metadata": {
    "collapsed": true
   },
   "outputs": [
    {
     "data": {
      "text/plain": [
       "{'boosting_type': 'gbdt',\n",
       " 'class_weight': None,\n",
       " 'colsample_bytree': 1.0,\n",
       " 'importance_type': 'split',\n",
       " 'learning_rate': 0.1,\n",
       " 'max_depth': -1,\n",
       " 'min_child_samples': 20,\n",
       " 'min_child_weight': 0.001,\n",
       " 'min_split_gain': 0.0,\n",
       " 'n_estimators': 100,\n",
       " 'n_jobs': -1,\n",
       " 'num_leaves': 31,\n",
       " 'objective': None,\n",
       " 'random_state': 23,\n",
       " 'reg_alpha': 0.0,\n",
       " 'reg_lambda': 0.0,\n",
       " 'silent': 'warn',\n",
       " 'subsample': 1.0,\n",
       " 'subsample_for_bin': 200000,\n",
       " 'subsample_freq': 0}"
      ]
     },
     "execution_count": 35,
     "metadata": {},
     "output_type": "execute_result"
    }
   ],
   "source": [
    "lgb=LGBMClassifier(random_state=23)"
   ]
  },
  {
   "cell_type": "code",
   "execution_count": 38,
   "id": "6e0badae",
   "metadata": {},
   "outputs": [
    {
     "name": "stdout",
     "output_type": "stream",
     "text": [
      "{'learning_rate': 0.08977777777777779, 'max_depth': 2, 'n_estimators': 100}\n",
      "-0.010117974834652033\n"
     ]
    }
   ],
   "source": [
    "params={'learning_rate':np.linspace(0.001,0.8,10),\n",
    "        'max_depth':[2,3,5,6,None],\n",
    "        'n_estimators':[50,100,150]}\n",
    "kfold=StratifiedKFold(n_splits=5,shuffle=True,random_state=23)\n",
    "gcv=GridSearchCV(lgb,cv=kfold,scoring='neg_log_loss',param_grid=params)\n",
    "gcv.fit(X_dum,y)\n",
    "print(gcv.best_params_)\n",
    "print(gcv.best_score_)"
   ]
  },
  {
   "cell_type": "markdown",
   "id": "ad85d05a",
   "metadata": {},
   "source": [
    "# Stacking"
   ]
  },
  {
   "cell_type": "code",
   "execution_count": 5,
   "id": "75fa7071",
   "metadata": {},
   "outputs": [],
   "source": [
    "scaler=MinMaxScaler()\n",
    "lr=LogisticRegression()\n",
    "svm=SVC(probability=True,random_state=23)\n",
    "dtc=DecisionTreeClassifier(random_state=23)\n",
    "xg=XGBClassifier(random_state=23)"
   ]
  },
  {
   "cell_type": "code",
   "execution_count": 6,
   "id": "942f1c85",
   "metadata": {},
   "outputs": [],
   "source": [
    "kfold=StratifiedKFold(n_splits=5,shuffle=True,random_state=23)\n",
    "stacking=StackingClassifier([('LR',lr),('SVM',svm),('TREE',dtc)],final_estimator=xg,passthrough=True)\n"
   ]
  },
  {
   "cell_type": "code",
   "execution_count": 7,
   "id": "d9758230",
   "metadata": {},
   "outputs": [],
   "source": [
    "pipe=Pipeline([('SC',scaler),('st',stacking)])"
   ]
  },
  {
   "cell_type": "code",
   "execution_count": 10,
   "id": "bb4a819c",
   "metadata": {},
   "outputs": [
    {
     "data": {
      "text/plain": [
       "{'C': 1.0,\n",
       " 'class_weight': None,\n",
       " 'dual': False,\n",
       " 'fit_intercept': True,\n",
       " 'intercept_scaling': 1,\n",
       " 'l1_ratio': None,\n",
       " 'max_iter': 100,\n",
       " 'multi_class': 'auto',\n",
       " 'n_jobs': None,\n",
       " 'penalty': 'l2',\n",
       " 'random_state': None,\n",
       " 'solver': 'lbfgs',\n",
       " 'tol': 0.0001,\n",
       " 'verbose': 0,\n",
       " 'warm_start': False}"
      ]
     },
     "execution_count": 10,
     "metadata": {},
     "output_type": "execute_result"
    }
   ],
   "source": [
    "lr.get_params()"
   ]
  },
  {
   "cell_type": "code",
   "execution_count": 60,
   "id": "69b474ad",
   "metadata": {},
   "outputs": [
    {
     "name": "stderr",
     "output_type": "stream",
     "text": [
      "C:\\Users\\dai\\AppData\\Local\\anaconda3\\lib\\site-packages\\sklearn\\model_selection\\_validation.py:378: FitFailedWarning: \n",
      "50 fits failed out of a total of 75.\n",
      "The score on these train-test partitions for these parameters will be set to nan.\n",
      "If these failures are not expected, you can try to debug them by setting error_score='raise'.\n",
      "\n",
      "Below are more details about the failures:\n",
      "--------------------------------------------------------------------------------\n",
      "30 fits failed with the following error:\n",
      "Traceback (most recent call last):\n",
      "  File \"C:\\Users\\dai\\AppData\\Local\\anaconda3\\lib\\site-packages\\sklearn\\model_selection\\_validation.py\", line 686, in _fit_and_score\n",
      "    estimator.fit(X_train, y_train, **fit_params)\n",
      "  File \"C:\\Users\\dai\\AppData\\Local\\anaconda3\\lib\\site-packages\\sklearn\\pipeline.py\", line 405, in fit\n",
      "    self._final_estimator.fit(Xt, y, **fit_params_last_step)\n",
      "  File \"C:\\Users\\dai\\AppData\\Local\\anaconda3\\lib\\site-packages\\sklearn\\ensemble\\_stacking.py\", line 660, in fit\n",
      "    return super().fit(X, y_encoded, sample_weight)\n",
      "  File \"C:\\Users\\dai\\AppData\\Local\\anaconda3\\lib\\site-packages\\sklearn\\ensemble\\_stacking.py\", line 209, in fit\n",
      "    self.estimators_ = Parallel(n_jobs=self.n_jobs)(\n",
      "  File \"C:\\Users\\dai\\AppData\\Local\\anaconda3\\lib\\site-packages\\sklearn\\utils\\parallel.py\", line 63, in __call__\n",
      "    return super().__call__(iterable_with_config)\n",
      "  File \"C:\\Users\\dai\\AppData\\Local\\anaconda3\\lib\\site-packages\\joblib\\parallel.py\", line 1048, in __call__\n",
      "    if self.dispatch_one_batch(iterator):\n",
      "  File \"C:\\Users\\dai\\AppData\\Local\\anaconda3\\lib\\site-packages\\joblib\\parallel.py\", line 864, in dispatch_one_batch\n",
      "    self._dispatch(tasks)\n",
      "  File \"C:\\Users\\dai\\AppData\\Local\\anaconda3\\lib\\site-packages\\joblib\\parallel.py\", line 782, in _dispatch\n",
      "    job = self._backend.apply_async(batch, callback=cb)\n",
      "  File \"C:\\Users\\dai\\AppData\\Local\\anaconda3\\lib\\site-packages\\joblib\\_parallel_backends.py\", line 208, in apply_async\n",
      "    result = ImmediateResult(func)\n",
      "  File \"C:\\Users\\dai\\AppData\\Local\\anaconda3\\lib\\site-packages\\joblib\\_parallel_backends.py\", line 572, in __init__\n",
      "    self.results = batch()\n",
      "  File \"C:\\Users\\dai\\AppData\\Local\\anaconda3\\lib\\site-packages\\joblib\\parallel.py\", line 263, in __call__\n",
      "    return [func(*args, **kwargs)\n",
      "  File \"C:\\Users\\dai\\AppData\\Local\\anaconda3\\lib\\site-packages\\joblib\\parallel.py\", line 263, in <listcomp>\n",
      "    return [func(*args, **kwargs)\n",
      "  File \"C:\\Users\\dai\\AppData\\Local\\anaconda3\\lib\\site-packages\\sklearn\\utils\\parallel.py\", line 123, in __call__\n",
      "    return self.function(*args, **kwargs)\n",
      "  File \"C:\\Users\\dai\\AppData\\Local\\anaconda3\\lib\\site-packages\\sklearn\\ensemble\\_base.py\", line 46, in _fit_single_estimator\n",
      "    estimator.fit(X, y)\n",
      "  File \"C:\\Users\\dai\\AppData\\Local\\anaconda3\\lib\\site-packages\\sklearn\\linear_model\\_logistic.py\", line 1162, in fit\n",
      "    solver = _check_solver(self.solver, self.penalty, self.dual)\n",
      "  File \"C:\\Users\\dai\\AppData\\Local\\anaconda3\\lib\\site-packages\\sklearn\\linear_model\\_logistic.py\", line 54, in _check_solver\n",
      "    raise ValueError(\n",
      "ValueError: Solver lbfgs supports only 'l2' or 'none' penalties, got elasticnet penalty.\n",
      "\n",
      "--------------------------------------------------------------------------------\n",
      "20 fits failed with the following error:\n",
      "Traceback (most recent call last):\n",
      "  File \"C:\\Users\\dai\\AppData\\Local\\anaconda3\\lib\\site-packages\\sklearn\\model_selection\\_validation.py\", line 686, in _fit_and_score\n",
      "    estimator.fit(X_train, y_train, **fit_params)\n",
      "  File \"C:\\Users\\dai\\AppData\\Local\\anaconda3\\lib\\site-packages\\sklearn\\pipeline.py\", line 405, in fit\n",
      "    self._final_estimator.fit(Xt, y, **fit_params_last_step)\n",
      "  File \"C:\\Users\\dai\\AppData\\Local\\anaconda3\\lib\\site-packages\\sklearn\\ensemble\\_stacking.py\", line 660, in fit\n",
      "    return super().fit(X, y_encoded, sample_weight)\n",
      "  File \"C:\\Users\\dai\\AppData\\Local\\anaconda3\\lib\\site-packages\\sklearn\\ensemble\\_stacking.py\", line 209, in fit\n",
      "    self.estimators_ = Parallel(n_jobs=self.n_jobs)(\n",
      "  File \"C:\\Users\\dai\\AppData\\Local\\anaconda3\\lib\\site-packages\\sklearn\\utils\\parallel.py\", line 63, in __call__\n",
      "    return super().__call__(iterable_with_config)\n",
      "  File \"C:\\Users\\dai\\AppData\\Local\\anaconda3\\lib\\site-packages\\joblib\\parallel.py\", line 1048, in __call__\n",
      "    if self.dispatch_one_batch(iterator):\n",
      "  File \"C:\\Users\\dai\\AppData\\Local\\anaconda3\\lib\\site-packages\\joblib\\parallel.py\", line 864, in dispatch_one_batch\n",
      "    self._dispatch(tasks)\n",
      "  File \"C:\\Users\\dai\\AppData\\Local\\anaconda3\\lib\\site-packages\\joblib\\parallel.py\", line 782, in _dispatch\n",
      "    job = self._backend.apply_async(batch, callback=cb)\n",
      "  File \"C:\\Users\\dai\\AppData\\Local\\anaconda3\\lib\\site-packages\\joblib\\_parallel_backends.py\", line 208, in apply_async\n",
      "    result = ImmediateResult(func)\n",
      "  File \"C:\\Users\\dai\\AppData\\Local\\anaconda3\\lib\\site-packages\\joblib\\_parallel_backends.py\", line 572, in __init__\n",
      "    self.results = batch()\n",
      "  File \"C:\\Users\\dai\\AppData\\Local\\anaconda3\\lib\\site-packages\\joblib\\parallel.py\", line 263, in __call__\n",
      "    return [func(*args, **kwargs)\n",
      "  File \"C:\\Users\\dai\\AppData\\Local\\anaconda3\\lib\\site-packages\\joblib\\parallel.py\", line 263, in <listcomp>\n",
      "    return [func(*args, **kwargs)\n",
      "  File \"C:\\Users\\dai\\AppData\\Local\\anaconda3\\lib\\site-packages\\sklearn\\utils\\parallel.py\", line 123, in __call__\n",
      "    return self.function(*args, **kwargs)\n",
      "  File \"C:\\Users\\dai\\AppData\\Local\\anaconda3\\lib\\site-packages\\sklearn\\ensemble\\_base.py\", line 46, in _fit_single_estimator\n",
      "    estimator.fit(X, y)\n",
      "  File \"C:\\Users\\dai\\AppData\\Local\\anaconda3\\lib\\site-packages\\sklearn\\linear_model\\_logistic.py\", line 1162, in fit\n",
      "    solver = _check_solver(self.solver, self.penalty, self.dual)\n",
      "  File \"C:\\Users\\dai\\AppData\\Local\\anaconda3\\lib\\site-packages\\sklearn\\linear_model\\_logistic.py\", line 54, in _check_solver\n",
      "    raise ValueError(\n",
      "ValueError: Solver lbfgs supports only 'l2' or 'none' penalties, got l1 penalty.\n",
      "\n",
      "  warnings.warn(some_fits_failed_message, FitFailedWarning)\n",
      "C:\\Users\\dai\\AppData\\Local\\anaconda3\\lib\\site-packages\\sklearn\\model_selection\\_search.py:952: UserWarning: One or more of the test scores are non-finite: [        nan         nan         nan -0.01220921         nan -0.01266867\n",
      " -0.64582195 -0.01270519         nan         nan         nan         nan\n",
      " -0.01162008         nan         nan]\n",
      "  warnings.warn(\n"
     ]
    },
    {
     "data": {
      "text/html": [
       "<style>#sk-container-id-1 {color: black;background-color: white;}#sk-container-id-1 pre{padding: 0;}#sk-container-id-1 div.sk-toggleable {background-color: white;}#sk-container-id-1 label.sk-toggleable__label {cursor: pointer;display: block;width: 100%;margin-bottom: 0;padding: 0.3em;box-sizing: border-box;text-align: center;}#sk-container-id-1 label.sk-toggleable__label-arrow:before {content: \"▸\";float: left;margin-right: 0.25em;color: #696969;}#sk-container-id-1 label.sk-toggleable__label-arrow:hover:before {color: black;}#sk-container-id-1 div.sk-estimator:hover label.sk-toggleable__label-arrow:before {color: black;}#sk-container-id-1 div.sk-toggleable__content {max-height: 0;max-width: 0;overflow: hidden;text-align: left;background-color: #f0f8ff;}#sk-container-id-1 div.sk-toggleable__content pre {margin: 0.2em;color: black;border-radius: 0.25em;background-color: #f0f8ff;}#sk-container-id-1 input.sk-toggleable__control:checked~div.sk-toggleable__content {max-height: 200px;max-width: 100%;overflow: auto;}#sk-container-id-1 input.sk-toggleable__control:checked~label.sk-toggleable__label-arrow:before {content: \"▾\";}#sk-container-id-1 div.sk-estimator input.sk-toggleable__control:checked~label.sk-toggleable__label {background-color: #d4ebff;}#sk-container-id-1 div.sk-label input.sk-toggleable__control:checked~label.sk-toggleable__label {background-color: #d4ebff;}#sk-container-id-1 input.sk-hidden--visually {border: 0;clip: rect(1px 1px 1px 1px);clip: rect(1px, 1px, 1px, 1px);height: 1px;margin: -1px;overflow: hidden;padding: 0;position: absolute;width: 1px;}#sk-container-id-1 div.sk-estimator {font-family: monospace;background-color: #f0f8ff;border: 1px dotted black;border-radius: 0.25em;box-sizing: border-box;margin-bottom: 0.5em;}#sk-container-id-1 div.sk-estimator:hover {background-color: #d4ebff;}#sk-container-id-1 div.sk-parallel-item::after {content: \"\";width: 100%;border-bottom: 1px solid gray;flex-grow: 1;}#sk-container-id-1 div.sk-label:hover label.sk-toggleable__label {background-color: #d4ebff;}#sk-container-id-1 div.sk-serial::before {content: \"\";position: absolute;border-left: 1px solid gray;box-sizing: border-box;top: 0;bottom: 0;left: 50%;z-index: 0;}#sk-container-id-1 div.sk-serial {display: flex;flex-direction: column;align-items: center;background-color: white;padding-right: 0.2em;padding-left: 0.2em;position: relative;}#sk-container-id-1 div.sk-item {position: relative;z-index: 1;}#sk-container-id-1 div.sk-parallel {display: flex;align-items: stretch;justify-content: center;background-color: white;position: relative;}#sk-container-id-1 div.sk-item::before, #sk-container-id-1 div.sk-parallel-item::before {content: \"\";position: absolute;border-left: 1px solid gray;box-sizing: border-box;top: 0;bottom: 0;left: 50%;z-index: -1;}#sk-container-id-1 div.sk-parallel-item {display: flex;flex-direction: column;z-index: 1;position: relative;background-color: white;}#sk-container-id-1 div.sk-parallel-item:first-child::after {align-self: flex-end;width: 50%;}#sk-container-id-1 div.sk-parallel-item:last-child::after {align-self: flex-start;width: 50%;}#sk-container-id-1 div.sk-parallel-item:only-child::after {width: 0;}#sk-container-id-1 div.sk-dashed-wrapped {border: 1px dashed gray;margin: 0 0.4em 0.5em 0.4em;box-sizing: border-box;padding-bottom: 0.4em;background-color: white;}#sk-container-id-1 div.sk-label label {font-family: monospace;font-weight: bold;display: inline-block;line-height: 1.2em;}#sk-container-id-1 div.sk-label-container {text-align: center;}#sk-container-id-1 div.sk-container {/* jupyter's `normalize.less` sets `[hidden] { display: none; }` but bootstrap.min.css set `[hidden] { display: none !important; }` so we also need the `!important` here to be able to override the default hidden behavior on the sphinx rendered scikit-learn.org. See: https://github.com/scikit-learn/scikit-learn/issues/21755 */display: inline-block !important;position: relative;}#sk-container-id-1 div.sk-text-repr-fallback {display: none;}</style><div id=\"sk-container-id-1\" class=\"sk-top-container\"><div class=\"sk-text-repr-fallback\"><pre>RandomizedSearchCV(cv=StratifiedKFold(n_splits=5, random_state=23, shuffle=True),\n",
       "                   estimator=Pipeline(steps=[(&#x27;SC&#x27;, MinMaxScaler()),\n",
       "                                             (&#x27;st&#x27;,\n",
       "                                              StackingClassifier(estimators=[(&#x27;LR&#x27;,\n",
       "                                                                              LogisticRegression()),\n",
       "                                                                             (&#x27;SVM&#x27;,\n",
       "                                                                              SVC(probability=True,\n",
       "                                                                                  random_state=23)),\n",
       "                                                                             (&#x27;TREE&#x27;,\n",
       "                                                                              DecisionTreeClassifier(random_state=23))],\n",
       "                                                                 final_estimator=XGBClassifier(base_score=None,\n",
       "                                                                                               booster=None,\n",
       "                                                                                               cal...\n",
       "                                        &#x27;st__TREE__min_samples_leaf&#x27;: [1, 5,\n",
       "                                                                       10],\n",
       "                                        &#x27;st__TREE__min_samples_split&#x27;: [2, 5,\n",
       "                                                                        10],\n",
       "                                        &#x27;st__final_estimator__learning_rate&#x27;: array([0.001     , 0.08977778, 0.17855556, 0.26733333, 0.35611111,\n",
       "       0.44488889, 0.53366667, 0.62244444, 0.71122222, 0.8       ]),\n",
       "                                        &#x27;st__final_estimator__max_depth&#x27;: [2, 3,\n",
       "                                                                           5, 6,\n",
       "                                                                           7, 8,\n",
       "                                                                           None],\n",
       "                                        &#x27;st__final_estimator__n_estimators&#x27;: [50,\n",
       "                                                                              100,\n",
       "                                                                              150]},\n",
       "                   random_state=23, scoring=&#x27;neg_log_loss&#x27;)</pre><b>In a Jupyter environment, please rerun this cell to show the HTML representation or trust the notebook. <br />On GitHub, the HTML representation is unable to render, please try loading this page with nbviewer.org.</b></div><div class=\"sk-container\" hidden><div class=\"sk-item sk-dashed-wrapped\"><div class=\"sk-label-container\"><div class=\"sk-label sk-toggleable\"><input class=\"sk-toggleable__control sk-hidden--visually\" id=\"sk-estimator-id-1\" type=\"checkbox\" ><label for=\"sk-estimator-id-1\" class=\"sk-toggleable__label sk-toggleable__label-arrow\">RandomizedSearchCV</label><div class=\"sk-toggleable__content\"><pre>RandomizedSearchCV(cv=StratifiedKFold(n_splits=5, random_state=23, shuffle=True),\n",
       "                   estimator=Pipeline(steps=[(&#x27;SC&#x27;, MinMaxScaler()),\n",
       "                                             (&#x27;st&#x27;,\n",
       "                                              StackingClassifier(estimators=[(&#x27;LR&#x27;,\n",
       "                                                                              LogisticRegression()),\n",
       "                                                                             (&#x27;SVM&#x27;,\n",
       "                                                                              SVC(probability=True,\n",
       "                                                                                  random_state=23)),\n",
       "                                                                             (&#x27;TREE&#x27;,\n",
       "                                                                              DecisionTreeClassifier(random_state=23))],\n",
       "                                                                 final_estimator=XGBClassifier(base_score=None,\n",
       "                                                                                               booster=None,\n",
       "                                                                                               cal...\n",
       "                                        &#x27;st__TREE__min_samples_leaf&#x27;: [1, 5,\n",
       "                                                                       10],\n",
       "                                        &#x27;st__TREE__min_samples_split&#x27;: [2, 5,\n",
       "                                                                        10],\n",
       "                                        &#x27;st__final_estimator__learning_rate&#x27;: array([0.001     , 0.08977778, 0.17855556, 0.26733333, 0.35611111,\n",
       "       0.44488889, 0.53366667, 0.62244444, 0.71122222, 0.8       ]),\n",
       "                                        &#x27;st__final_estimator__max_depth&#x27;: [2, 3,\n",
       "                                                                           5, 6,\n",
       "                                                                           7, 8,\n",
       "                                                                           None],\n",
       "                                        &#x27;st__final_estimator__n_estimators&#x27;: [50,\n",
       "                                                                              100,\n",
       "                                                                              150]},\n",
       "                   random_state=23, scoring=&#x27;neg_log_loss&#x27;)</pre></div></div></div><div class=\"sk-parallel\"><div class=\"sk-parallel-item\"><div class=\"sk-item\"><div class=\"sk-label-container\"><div class=\"sk-label sk-toggleable\"><input class=\"sk-toggleable__control sk-hidden--visually\" id=\"sk-estimator-id-2\" type=\"checkbox\" ><label for=\"sk-estimator-id-2\" class=\"sk-toggleable__label sk-toggleable__label-arrow\">estimator: Pipeline</label><div class=\"sk-toggleable__content\"><pre>Pipeline(steps=[(&#x27;SC&#x27;, MinMaxScaler()),\n",
       "                (&#x27;st&#x27;,\n",
       "                 StackingClassifier(estimators=[(&#x27;LR&#x27;, LogisticRegression()),\n",
       "                                                (&#x27;SVM&#x27;,\n",
       "                                                 SVC(probability=True,\n",
       "                                                     random_state=23)),\n",
       "                                                (&#x27;TREE&#x27;,\n",
       "                                                 DecisionTreeClassifier(random_state=23))],\n",
       "                                    final_estimator=XGBClassifier(base_score=None,\n",
       "                                                                  booster=None,\n",
       "                                                                  callbacks=None,\n",
       "                                                                  colsample_bylevel=None,\n",
       "                                                                  colsample_bynode=None,\n",
       "                                                                  colsample_bytree=None,\n",
       "                                                                  early_stop...\n",
       "                                                                  grow_policy=None,\n",
       "                                                                  importance_type=None,\n",
       "                                                                  interaction_constraints=None,\n",
       "                                                                  learning_rate=None,\n",
       "                                                                  max_bin=None,\n",
       "                                                                  max_cat_threshold=None,\n",
       "                                                                  max_cat_to_onehot=None,\n",
       "                                                                  max_delta_step=None,\n",
       "                                                                  max_depth=None,\n",
       "                                                                  max_leaves=None,\n",
       "                                                                  min_child_weight=None,\n",
       "                                                                  missing=nan,\n",
       "                                                                  monotone_constraints=None,\n",
       "                                                                  n_estimators=100,\n",
       "                                                                  n_jobs=None,\n",
       "                                                                  num_parallel_tree=None,\n",
       "                                                                  predictor=None,\n",
       "                                                                  random_state=23, ...),\n",
       "                                    passthrough=True))])</pre></div></div></div><div class=\"sk-serial\"><div class=\"sk-item\"><div class=\"sk-serial\"><div class=\"sk-item\"><div class=\"sk-estimator sk-toggleable\"><input class=\"sk-toggleable__control sk-hidden--visually\" id=\"sk-estimator-id-3\" type=\"checkbox\" ><label for=\"sk-estimator-id-3\" class=\"sk-toggleable__label sk-toggleable__label-arrow\">MinMaxScaler</label><div class=\"sk-toggleable__content\"><pre>MinMaxScaler()</pre></div></div></div><div class=\"sk-item\"><div class=\"sk-label-container\"><div class=\"sk-label sk-toggleable\"><input class=\"sk-toggleable__control sk-hidden--visually\" id=\"sk-estimator-id-4\" type=\"checkbox\" ><label for=\"sk-estimator-id-4\" class=\"sk-toggleable__label sk-toggleable__label-arrow\">st: StackingClassifier</label><div class=\"sk-toggleable__content\"><pre>StackingClassifier(estimators=[(&#x27;LR&#x27;, LogisticRegression()),\n",
       "                               (&#x27;SVM&#x27;, SVC(probability=True, random_state=23)),\n",
       "                               (&#x27;TREE&#x27;,\n",
       "                                DecisionTreeClassifier(random_state=23))],\n",
       "                   final_estimator=XGBClassifier(base_score=None, booster=None,\n",
       "                                                 callbacks=None,\n",
       "                                                 colsample_bylevel=None,\n",
       "                                                 colsample_bynode=None,\n",
       "                                                 colsample_bytree=None,\n",
       "                                                 early_stopping_rounds=None,\n",
       "                                                 enable_categorical=False,\n",
       "                                                 ev...\n",
       "                                                 gpu_id=None, grow_policy=None,\n",
       "                                                 importance_type=None,\n",
       "                                                 interaction_constraints=None,\n",
       "                                                 learning_rate=None,\n",
       "                                                 max_bin=None,\n",
       "                                                 max_cat_threshold=None,\n",
       "                                                 max_cat_to_onehot=None,\n",
       "                                                 max_delta_step=None,\n",
       "                                                 max_depth=None,\n",
       "                                                 max_leaves=None,\n",
       "                                                 min_child_weight=None,\n",
       "                                                 missing=nan,\n",
       "                                                 monotone_constraints=None,\n",
       "                                                 n_estimators=100, n_jobs=None,\n",
       "                                                 num_parallel_tree=None,\n",
       "                                                 predictor=None,\n",
       "                                                 random_state=23, ...),\n",
       "                   passthrough=True)</pre></div></div></div><div class=\"sk-serial\"><div class=\"sk-item\"><div class=\"sk-parallel\"><div class=\"sk-parallel-item\"><div class=\"sk-item\"><div class=\"sk-label-container\"><div class=\"sk-label sk-toggleable\"><label>LR</label></div></div><div class=\"sk-serial\"><div class=\"sk-item\"><div class=\"sk-estimator sk-toggleable\"><input class=\"sk-toggleable__control sk-hidden--visually\" id=\"sk-estimator-id-5\" type=\"checkbox\" ><label for=\"sk-estimator-id-5\" class=\"sk-toggleable__label sk-toggleable__label-arrow\">LogisticRegression</label><div class=\"sk-toggleable__content\"><pre>LogisticRegression()</pre></div></div></div></div></div></div><div class=\"sk-parallel-item\"><div class=\"sk-item\"><div class=\"sk-label-container\"><div class=\"sk-label sk-toggleable\"><label>SVM</label></div></div><div class=\"sk-serial\"><div class=\"sk-item\"><div class=\"sk-estimator sk-toggleable\"><input class=\"sk-toggleable__control sk-hidden--visually\" id=\"sk-estimator-id-6\" type=\"checkbox\" ><label for=\"sk-estimator-id-6\" class=\"sk-toggleable__label sk-toggleable__label-arrow\">SVC</label><div class=\"sk-toggleable__content\"><pre>SVC(probability=True, random_state=23)</pre></div></div></div></div></div></div><div class=\"sk-parallel-item\"><div class=\"sk-item\"><div class=\"sk-label-container\"><div class=\"sk-label sk-toggleable\"><label>TREE</label></div></div><div class=\"sk-serial\"><div class=\"sk-item\"><div class=\"sk-estimator sk-toggleable\"><input class=\"sk-toggleable__control sk-hidden--visually\" id=\"sk-estimator-id-7\" type=\"checkbox\" ><label for=\"sk-estimator-id-7\" class=\"sk-toggleable__label sk-toggleable__label-arrow\">DecisionTreeClassifier</label><div class=\"sk-toggleable__content\"><pre>DecisionTreeClassifier(random_state=23)</pre></div></div></div></div></div></div></div></div><div class=\"sk-item\"><div class=\"sk-parallel\"><div class=\"sk-parallel-item\"><div class=\"sk-item\"><div class=\"sk-label-container\"><div class=\"sk-label sk-toggleable\"><label>final_estimator</label></div></div><div class=\"sk-serial\"><div class=\"sk-item\"><div class=\"sk-estimator sk-toggleable\"><input class=\"sk-toggleable__control sk-hidden--visually\" id=\"sk-estimator-id-8\" type=\"checkbox\" ><label for=\"sk-estimator-id-8\" class=\"sk-toggleable__label sk-toggleable__label-arrow\">XGBClassifier</label><div class=\"sk-toggleable__content\"><pre>XGBClassifier(base_score=None, booster=None, callbacks=None,\n",
       "              colsample_bylevel=None, colsample_bynode=None,\n",
       "              colsample_bytree=None, early_stopping_rounds=None,\n",
       "              enable_categorical=False, eval_metric=None, feature_types=None,\n",
       "              gamma=None, gpu_id=None, grow_policy=None, importance_type=None,\n",
       "              interaction_constraints=None, learning_rate=None, max_bin=None,\n",
       "              max_cat_threshold=None, max_cat_to_onehot=None,\n",
       "              max_delta_step=None, max_depth=None, max_leaves=None,\n",
       "              min_child_weight=None, missing=nan, monotone_constraints=None,\n",
       "              n_estimators=100, n_jobs=None, num_parallel_tree=None,\n",
       "              predictor=None, random_state=23, ...)</pre></div></div></div></div></div></div></div></div></div></div></div></div></div></div></div></div></div></div></div>"
      ],
      "text/plain": [
       "RandomizedSearchCV(cv=StratifiedKFold(n_splits=5, random_state=23, shuffle=True),\n",
       "                   estimator=Pipeline(steps=[('SC', MinMaxScaler()),\n",
       "                                             ('st',\n",
       "                                              StackingClassifier(estimators=[('LR',\n",
       "                                                                              LogisticRegression()),\n",
       "                                                                             ('SVM',\n",
       "                                                                              SVC(probability=True,\n",
       "                                                                                  random_state=23)),\n",
       "                                                                             ('TREE',\n",
       "                                                                              DecisionTreeClassifier(random_state=23))],\n",
       "                                                                 final_estimator=XGBClassifier(base_score=None,\n",
       "                                                                                               booster=None,\n",
       "                                                                                               cal...\n",
       "                                        'st__TREE__min_samples_leaf': [1, 5,\n",
       "                                                                       10],\n",
       "                                        'st__TREE__min_samples_split': [2, 5,\n",
       "                                                                        10],\n",
       "                                        'st__final_estimator__learning_rate': array([0.001     , 0.08977778, 0.17855556, 0.26733333, 0.35611111,\n",
       "       0.44488889, 0.53366667, 0.62244444, 0.71122222, 0.8       ]),\n",
       "                                        'st__final_estimator__max_depth': [2, 3,\n",
       "                                                                           5, 6,\n",
       "                                                                           7, 8,\n",
       "                                                                           None],\n",
       "                                        'st__final_estimator__n_estimators': [50,\n",
       "                                                                              100,\n",
       "                                                                              150]},\n",
       "                   random_state=23, scoring='neg_log_loss')"
      ]
     },
     "execution_count": 60,
     "metadata": {},
     "output_type": "execute_result"
    }
   ],
   "source": [
    "params={'st__LR__penalty':['l1','l2','elasticnet',None],\n",
    "        'st__SVM__C':[0.01,2,5],\n",
    "        'st__SVM__gamma':[0.01,2,5],\n",
    "        'st__TREE__max_depth':[None,4,5],\n",
    "        'st__TREE__min_samples_split':[2,5,10],\n",
    "        'st__TREE__min_samples_leaf':[1,5,10],\n",
    "        'st__final_estimator__learning_rate':np.linspace(0.001,0.8,10),\n",
    "        'st__final_estimator__max_depth':[2,3,5,6,7,8,None],\n",
    "        'st__final_estimator__n_estimators':[50,100,150]}\n",
    "gcv=RandomizedSearchCV(pipe,param_distributions=params,cv=kfold,scoring='neg_log_loss',random_state=23,n_iter=15,n_jobs=-1)\n",
    "gcv.fit(X_dum,y)"
   ]
  },
  {
   "cell_type": "code",
   "execution_count": 65,
   "id": "c38e1779",
   "metadata": {},
   "outputs": [
    {
     "name": "stdout",
     "output_type": "stream",
     "text": [
      "{'st__final_estimator__n_estimators': 100, 'st__final_estimator__max_depth': None, 'st__final_estimator__learning_rate': 0.26733333333333337, 'st__TREE__min_samples_split': 5, 'st__TREE__min_samples_leaf': 10, 'st__TREE__max_depth': 5, 'st__SVM__gamma': 5, 'st__SVM__C': 5, 'st__LR__penalty': None}\n",
      "-0.011620075437218375\n"
     ]
    }
   ],
   "source": [
    "print(gcv.best_params_)\n",
    "print(gcv.best_score_)"
   ]
  },
  {
   "cell_type": "markdown",
   "id": "2a8320f4",
   "metadata": {},
   "source": [
    "# voting"
   ]
  },
  {
   "cell_type": "code",
   "execution_count": 83,
   "id": "bb97bd06",
   "metadata": {},
   "outputs": [],
   "source": [
    "import warnings\n",
    "warnings.filterwarnings(\"ignore\")\n",
    "\n",
    "lr = LogisticRegression()\n",
    "dtc = DecisionTreeClassifier(random_state=23)\n",
    "nb = GaussianNB()\n",
    "\n",
    "voting = VotingClassifier([(\"Lr\",lr),\n",
    "                           ('TREE',dtc),\n",
    "                           ('NB',nb)], voting='soft',n_jobs=-1,verbose=2)\n",
    "\n",
    "kfold=StratifiedKFold(n_splits=5,random_state=23,shuffle=True)\n"
   ]
  },
  {
   "cell_type": "code",
   "execution_count": 85,
   "id": "5575d466",
   "metadata": {},
   "outputs": [
    {
     "name": "stdout",
     "output_type": "stream",
     "text": [
      "{'TREE__min_samples_split': 2, 'TREE__min_samples_leaf': 10, 'TREE__max_depth': 3, 'Lr__penalty': 'l2'}\n",
      "-0.23314507789599132\n"
     ]
    }
   ],
   "source": [
    "params={\"TREE__max_depth\":[None,3,5],\n",
    "        \"TREE__min_samples_split\":[2,5,10],\n",
    "        \"TREE__min_samples_leaf\":[1,5,10],\n",
    "        \"Lr__penalty\":['l1','l2','elasticnet',None]       \n",
    "       }\n",
    "gcv=RandomizedSearchCV(voting,param_distributions=params,cv=kfold,scoring='neg_log_loss',random_state=23,n_iter=15,n_jobs=-1)\n",
    "gcv.fit(X_dum,y)\n",
    "print(gcv.best_params_)\n",
    "print(gcv.best_score_)"
   ]
  },
  {
   "cell_type": "markdown",
   "id": "6b3fd271",
   "metadata": {},
   "source": [
    "# SMOTE"
   ]
  },
  {
   "cell_type": "code",
   "execution_count": 87,
   "id": "e09c54f3",
   "metadata": {},
   "outputs": [
    {
     "data": {
      "text/plain": [
       "0    79.62\n",
       "1    20.38\n",
       "Name: Exited, dtype: float64"
      ]
     },
     "execution_count": 87,
     "metadata": {},
     "output_type": "execute_result"
    }
   ],
   "source": [
    "bank['Exited'].value_counts(normalize=True)*100"
   ]
  },
  {
   "cell_type": "code",
   "execution_count": 88,
   "id": "b9235bd9",
   "metadata": {},
   "outputs": [
    {
     "name": "stdout",
     "output_type": "stream",
     "text": [
      "X_smote.shape= (15924, 17) y_smote.shape= (15924,)\n",
      "1    7962\n",
      "0    7962\n",
      "Name: Exited, dtype: int64\n",
      "1    50.0\n",
      "0    50.0\n",
      "Name: Exited, dtype: float64\n"
     ]
    }
   ],
   "source": [
    "smote=SMOTE(random_state=23)\n",
    "X_smote,y_smote=smote.fit_resample(X_dum,y)\n",
    "print(\"X_smote.shape=\",X_smote.shape,\"y_smote.shape=\",y_smote.shape)\n",
    "print(y_smote.value_counts())\n",
    "print(y_smote.value_counts(normalize=True)*100)"
   ]
  },
  {
   "cell_type": "markdown",
   "id": "4490ec67",
   "metadata": {},
   "source": [
    "# random forest with smote"
   ]
  },
  {
   "cell_type": "code",
   "execution_count": 93,
   "id": "979eb50a",
   "metadata": {},
   "outputs": [
    {
     "name": "stdout",
     "output_type": "stream",
     "text": [
      "best para= {'max_features': 7}\n",
      "best score= -0.012361635295487583\n"
     ]
    }
   ],
   "source": [
    "rf=RandomForestClassifier(random_state=23,oob_score=True,n_estimators=100)\n",
    "params={\"max_features\":np.arange(2,12)}\n",
    "kfold=StratifiedKFold(n_splits=5,shuffle=True,random_state=23)\n",
    "gcv=GridSearchCV(rf,cv=kfold,param_grid=params,scoring=\"neg_log_loss\")\n",
    "gcv.fit(X_smote,y_smote)\n",
    "print(\"best para=\",gcv.best_params_)\n",
    "print(\"best score=\",gcv.best_score_)"
   ]
  },
  {
   "cell_type": "code",
   "execution_count": 94,
   "id": "cdbb9825",
   "metadata": {},
   "outputs": [
    {
     "data": {
      "image/png": "[encoded data removed]",
      "text/plain": [
       "<Figure size 640x480 with 1 Axes>"
      ]
     },
     "metadata": {},
     "output_type": "display_data"
    }
   ],
   "source": [
    "best_tree=gcv.best_estimator_\n",
    "df_imp=pd.DataFrame({'features':X_smote.columns,'importance':best_tree.feature_importances_})\n",
    "df_imp=df_imp.sort_values(by='importance')\n",
    "plt.barh(df_imp['features'],df_imp['importance'])\n",
    "plt.show()"
   ]
  },
  {
   "cell_type": "markdown",
   "id": "7768a5ba",
   "metadata": {},
   "source": [
    "# Light GBM with SMOTE"
   ]
  },
  {
   "cell_type": "code",
   "execution_count": 95,
   "id": "7d6fce04",
   "metadata": {},
   "outputs": [
    {
     "name": "stdout",
     "output_type": "stream",
     "text": [
      "{'learning_rate': 0.17855555555555558, 'max_depth': 3, 'n_estimators': 100}\n",
      "-0.008205924098938649\n"
     ]
    }
   ],
   "source": [
    "lgb=LGBMClassifier(random_state=23)\n",
    "params={'learning_rate':np.linspace(0.001,0.8,10),\n",
    "        'max_depth':[2,3,5,6,None],\n",
    "        'n_estimators':[50,100,150]}\n",
    "kfold=StratifiedKFold(n_splits=5,shuffle=True,random_state=23)\n",
    "gcv=GridSearchCV(lgb,cv=kfold,scoring='neg_log_loss',param_grid=params)\n",
    "gcv.fit(X_smote,y_smote)\n",
    "print(gcv.best_params_)\n",
    "print(gcv.best_score_)"
   ]
  },
  {
   "cell_type": "markdown",
   "id": "2524fce7",
   "metadata": {},
   "source": [
    "# stacking"
   ]
  },
  {
   "cell_type": "code",
   "execution_count": 96,
   "id": "cd94856e",
   "metadata": {},
   "outputs": [],
   "source": [
    "scaler=MinMaxScaler()\n",
    "lr=LogisticRegression()\n",
    "svm=SVC(probability=True,random_state=23)\n",
    "dtc=DecisionTreeClassifier(random_state=23)\n",
    "xg=XGBClassifier(random_state=23)"
   ]
  },
  {
   "cell_type": "code",
   "execution_count": 97,
   "id": "2c04e228",
   "metadata": {},
   "outputs": [],
   "source": [
    "kfold=StratifiedKFold(n_splits=5,shuffle=True,random_state=23)\n",
    "stacking=StackingClassifier([('LR',lr),('SVM',svm),('TREE',dtc)],final_estimator=xg,passthrough=True)\n",
    "pipe=Pipeline([('SC',scaler),('st',stacking)])"
   ]
  },
  {
   "cell_type": "code",
   "execution_count": 99,
   "id": "ae362086",
   "metadata": {},
   "outputs": [
    {
     "name": "stdout",
     "output_type": "stream",
     "text": [
      "{'st__final_estimator__n_estimators': 100, 'st__final_estimator__max_depth': None, 'st__final_estimator__learning_rate': 0.26733333333333337, 'st__TREE__min_samples_split': 5, 'st__TREE__min_samples_leaf': 10, 'st__TREE__max_depth': 5, 'st__SVM__gamma': 5, 'st__SVM__C': 5, 'st__LR__penalty': None}\n",
      "-0.009333747018371894\n"
     ]
    }
   ],
   "source": [
    "params={'st__LR__penalty':['l1','l2','elasticnet',None],\n",
    "        'st__SVM__C':[0.01,2,5],\n",
    "        'st__SVM__gamma':[0.01,2,5],\n",
    "        'st__TREE__max_depth':[None,4,5],\n",
    "        'st__TREE__min_samples_split':[2,5,10],\n",
    "        'st__TREE__min_samples_leaf':[1,5,10],\n",
    "        'st__final_estimator__learning_rate':np.linspace(0.001,0.8,10),\n",
    "        'st__final_estimator__max_depth':[2,3,5,6,7,8,None],\n",
    "        'st__final_estimator__n_estimators':[50,100,150]}\n",
    "gcv=RandomizedSearchCV(pipe,param_distributions=params,cv=kfold,scoring='neg_log_loss',random_state=23,n_iter=15,n_jobs=-1)\n",
    "gcv.fit(X_smote,y_smote)\n",
    "print(gcv.best_params_)\n",
    "print(gcv.best_score_)"
   ]
  },
  {
   "cell_type": "markdown",
   "id": "2c9ccea2",
   "metadata": {},
   "source": [
    "# Voting"
   ]
  },
  {
   "cell_type": "code",
   "execution_count": 100,
   "id": "b5ab2fd9",
   "metadata": {},
   "outputs": [],
   "source": [
    "import warnings\n",
    "warnings.filterwarnings(\"ignore\")\n",
    "\n",
    "lr = LogisticRegression()\n",
    "dtc = DecisionTreeClassifier(random_state=23)\n",
    "nb = GaussianNB()\n",
    "\n",
    "voting = VotingClassifier([(\"Lr\",lr),\n",
    "                           ('TREE',dtc),\n",
    "                           ('NB',nb)], voting='soft',n_jobs=-1,verbose=2)\n",
    "\n",
    "kfold=StratifiedKFold(n_splits=5,random_state=23,shuffle=True)\n"
   ]
  },
  {
   "cell_type": "code",
   "execution_count": 101,
   "id": "409bebba",
   "metadata": {},
   "outputs": [
    {
     "name": "stdout",
     "output_type": "stream",
     "text": [
      "{'TREE__min_samples_split': 2, 'TREE__min_samples_leaf': 10, 'TREE__max_depth': 3, 'Lr__penalty': 'l2'}\n",
      "-0.23314507789599132\n"
     ]
    }
   ],
   "source": [
    "params={\"TREE__max_depth\":[None,3,5],\n",
    "        \"TREE__min_samples_split\":[2,5,10],\n",
    "        \"TREE__min_samples_leaf\":[1,5,10],\n",
    "        \"Lr__penalty\":['l1','l2','elasticnet',None]       \n",
    "       }\n",
    "gcv=RandomizedSearchCV(voting,param_distributions=params,cv=kfold,scoring='neg_log_loss',random_state=23,n_iter=15,n_jobs=-1)\n",
    "gcv.fit(X_dum,y)\n",
    "print(gcv.best_params_)\n",
    "print(gcv.best_score_)"
   ]
  }
 ],
 "metadata": {
  "kernelspec": {
   "display_name": "Python 3 (ipykernel)",
   "language": "python",
   "name": "python3"
  },
  "language_info": {
   "codemirror_mode": {
    "name": "ipython",
    "version": 3
   },
   "file_extension": ".py",
   "mimetype": "text/x-python",
   "name": "python",
   "nbconvert_exporter": "python",
   "pygments_lexer": "ipython3",
   "version": "3.10.9"
  },
  "varInspector": {
   "cols": {
    "lenName": 16,
    "lenType": 16,
    "lenVar": 40
   },
   "kernels_config": {
    "python": {
     "delete_cmd_postfix": "",
     "delete_cmd_prefix": "del ",
     "library": "var_list.py",
     "varRefreshCmd": "print(var_dic_list())"
    },
    "r": {
     "delete_cmd_postfix": ") ",
     "delete_cmd_prefix": "rm(",
     "library": "var_list.r",
     "varRefreshCmd": "cat(var_dic_list()) "
    }
   },
   "types_to_exclude": [
    "module",
    "function",
    "builtin_function_or_method",
    "instance",
    "_Feature"
   ],
   "window_display": false
  }
 },
 "nbformat": 4,
 "nbformat_minor": 5
}
